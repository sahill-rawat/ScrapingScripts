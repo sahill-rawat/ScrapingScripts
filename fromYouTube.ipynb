{
 "cells": [
  {
   "cell_type": "code",
   "execution_count": 8,
   "id": "a2e26967",
   "metadata": {},
   "outputs": [],
   "source": [
    "import re\n",
    "import time\n",
    "from pytube import YouTube\n",
    "from selenium import webdriver\n",
    "from selenium.webdriver.common.by import By\n",
    "from selenium.webdriver.common.keys import Keys\n",
    "from webdriver_manager.chrome import ChromeDriverManager"
   ]
  },
  {
   "cell_type": "code",
   "execution_count": 14,
   "id": "f5b8bf35",
   "metadata": {},
   "outputs": [],
   "source": [
    "driver = webdriver.Chrome(ChromeDriverManager().install())\n",
    "driver.get(\"https://www.youtube.com/\")"
   ]
  },
  {
   "cell_type": "code",
   "execution_count": 10,
   "id": "bf4b3780",
   "metadata": {},
   "outputs": [],
   "source": [
    "def match(text, ps):\n",
    "    for p in ps:\n",
    "        if p.match(text):\n",
    "            return True\n",
    "    return False"
   ]
  },
  {
   "cell_type": "code",
   "execution_count": 11,
   "id": "6a8fd2ad",
   "metadata": {},
   "outputs": [],
   "source": [
    "dict = {}"
   ]
  },
  {
   "cell_type": "code",
   "execution_count": 15,
   "id": "98f43e13",
   "metadata": {},
   "outputs": [],
   "source": [
    "queries = [\"celebrating anjali's 19th birthday\", \"celebration of neha's birthday\", \"celebrating aditya's birthday\", \"celebrating rohan's 16th birthday\"]    "
   ]
  },
  {
   "cell_type": "code",
   "execution_count": 17,
   "id": "c3618d2f",
   "metadata": {},
   "outputs": [
    {
     "name": "stdout",
     "output_type": "stream",
     "text": [
      "0\n",
      "1\n",
      "2\n",
      "3\n"
     ]
    }
   ],
   "source": [
    "patterns = [r\"(celebration|celebrating)\\s?(of)?\\s\\w+'s\\s?.[0-9]*(th|rd|nd|st)?\\s?birthday\"]\n",
    "ps = [re.compile(p) for p in patterns]\n",
    "cnt = 0\n",
    "\n",
    "for q in range(0, len(queries)):\n",
    "    searchbox = driver.find_element(By.XPATH, \"//input[@placeholder='Search']\")\n",
    "    searchbox.clear()\n",
    "    searchbox.send_keys(queries[q])\n",
    "    btn = driver.find_element('id', 'search-icon-legacy')\n",
    "    btn.click()\n",
    "    \n",
    "    for i in range(100):\n",
    "        html = driver.find_element(By.TAG_NAME, 'html')\n",
    "        html.send_keys(Keys.END)\n",
    "        time.sleep(2)\n",
    "\n",
    "    title = driver.find_elements('id', 'video-title')\n",
    "    links = [t.get_attribute('href') for t in title]\n",
    "    len(links)\n",
    "\n",
    "    n = len(links)\n",
    "    for i in range(n):\n",
    "        if links[i] != None:\n",
    "            yt = YouTube(links[i])\n",
    "            title = yt.title.lower()\n",
    "            if match(title, ps) and links[i] not in dict:\n",
    "                dict[links[i]] = title\n",
    "    print(cnt)\n",
    "    cnt+=1"
   ]
  },
  {
   "cell_type": "code",
   "execution_count": 18,
   "id": "e752dc89",
   "metadata": {},
   "outputs": [
    {
     "data": {
      "text/plain": [
       "4"
      ]
     },
     "execution_count": 18,
     "metadata": {},
     "output_type": "execute_result"
    }
   ],
   "source": [
    "len(dict)"
   ]
  },
  {
   "cell_type": "code",
   "execution_count": 66,
   "id": "7d4721dd",
   "metadata": {},
   "outputs": [],
   "source": [
    "import json\n",
    "with open('ytLINKS//cooking_2.json', 'w', encoding='utf8') as f:\n",
    "    json.dump(dict, f, ensure_ascii=True, indent=4)"
   ]
  }
 ],
 "metadata": {
  "kernelspec": {
   "display_name": "Python 3",
   "language": "python",
   "name": "python3"
  },
  "language_info": {
   "codemirror_mode": {
    "name": "ipython",
    "version": 3
   },
   "file_extension": ".py",
   "mimetype": "text/x-python",
   "name": "python",
   "nbconvert_exporter": "python",
   "pygments_lexer": "ipython3",
   "version": "3.8.8"
  }
 },
 "nbformat": 4,
 "nbformat_minor": 5
}
