{
 "cells": [
  {
   "cell_type": "code",
   "execution_count": 1,
   "id": "72d2c062",
   "metadata": {},
   "outputs": [],
   "source": [
    "import os\n",
    "import wget\n",
    "import shutil\n",
    "import requests\n",
    "from time import sleep\n",
    "from selenium import webdriver\n",
    "from selenium.webdriver.common.by import By\n",
    "from selenium.webdriver.chrome.options import Options\n",
    "from webdriver_manager.chrome import ChromeDriverManager"
   ]
  },
  {
   "cell_type": "code",
   "execution_count": 2,
   "id": "8e28c046",
   "metadata": {},
   "outputs": [
    {
     "name": "stdout",
     "output_type": "stream",
     "text": [
      "Log In Done\n"
     ]
    }
   ],
   "source": [
    "usr = \"demo.iddd\"\n",
    "pwd = \"Sahil@2002\"\n",
    "  \n",
    "driver = webdriver.Chrome(ChromeDriverManager().install())\n",
    "driver.get('https://www.instagram.com/accounts/login/')\n",
    "sleep(5)\n",
    "  \n",
    "driver.find_element(By.NAME, \"username\").send_keys(usr)\n",
    "  \n",
    "driver.find_element(By.NAME, \"password\").send_keys(pwd)\n",
    "\n",
    "driver.find_element(By.XPATH, \"//button[@class='sqdOP  L3NKy   y3zKF     ']\").click()\n",
    "sleep(7)\n",
    "\n",
    "driver.find_element(By.XPATH, \"//button[@class='sqdOP yWX7d    y3zKF     ']\").click()\n",
    "sleep(5)\n",
    "\n",
    "driver.find_element(By.XPATH, \"//button[@class='_a9-- _a9_1']\").click()\n",
    "print(\"Log In Done\")"
   ]
  },
  {
   "cell_type": "code",
   "execution_count": 4,
   "id": "5ef2fd69",
   "metadata": {},
   "outputs": [],
   "source": [
    "def getLinks(hashtag):\n",
    "    links = {\"\"}\n",
    "    hashtag = \"cooking\"\n",
    "    driver.get(\"https://www.instagram.com/explore/tags/\"+hashtag+\"/\")\n",
    "    for i in range(200):\n",
    "        try:\n",
    "            anchors = driver.find_elements(By.XPATH, \"//a[@class='oajrlxb2 g5ia77u1 qu0x051f esr5mh6w e9989ue4 r7d6kgcz rq0escxv nhd2j8a9 nc684nl6 p7hjln8o kvgmc6g5 cxmmr5t8 oygrvhab hcukyx3x jb3vyjys rz4wbd8a qt6c0cv9 a8nywdso i1ao9s8h esuyzwwr f1sip0of lzcic4wl _a6hd']\")\n",
    "            sleep(5)\n",
    "            an = [a.get_attribute('href') for a in anchors]\n",
    "            for a in an:\n",
    "                if (str(a).startswith(\"https://www.instagram.com/p\")):\n",
    "                    links.add(a)\n",
    "            driver.execute_script(\"window.scrollTo(0,document.body.scrollHeight);\")\n",
    "            sleep(4)\n",
    "        except:\n",
    "            i -= 1\n",
    "    print(len(links))\n",
    "    links.remove(\"\")\n",
    "    return links"
   ]
  },
  {
   "cell_type": "code",
   "execution_count": 5,
   "id": "2dbabd36",
   "metadata": {},
   "outputs": [],
   "source": [
    "def download(url, file_name):\n",
    "    if src == \"\":\n",
    "        return False\n",
    "    res = requests.get(url, stream = True)\n",
    "    if res.status_code == 200:\n",
    "        with open('igData\\\\food\\\\' + file_name + '.jpg', 'wb') as f:\n",
    "            shutil.copyfileobj(res.raw, f)\n",
    "        return True\n",
    "    return False"
   ]
  },
  {
   "cell_type": "code",
   "execution_count": 6,
   "id": "8bcc91e2",
   "metadata": {},
   "outputs": [],
   "source": [
    "def getLink():\n",
    "    el = driver.find_elements(By.XPATH, \"//img[@class='_aagt']\")\n",
    "    try:\n",
    "        srcset = str(el[0].get_attribute('srcset'))\n",
    "        srcset = srcset.split(' ')\n",
    "        return srcset[0]\n",
    "    except:\n",
    "        return \"\""
   ]
  },
  {
   "cell_type": "code",
   "execution_count": 7,
   "id": "4c5258de",
   "metadata": {},
   "outputs": [
    {
     "name": "stdout",
     "output_type": "stream",
     "text": [
      "781\n",
      "780\n"
     ]
    }
   ],
   "source": [
    "links = getLinks(\"cooking\")\n",
    "print(len(links))"
   ]
  },
  {
   "cell_type": "code",
   "execution_count": null,
   "id": "e73a72f9",
   "metadata": {},
   "outputs": [],
   "source": [
    "dict = {}\n",
    "name = 1\n",
    "for link in links:\n",
    "    try:\n",
    "        driver.get(link)\n",
    "        sleep(30)\n",
    "        el = driver.find_elements(By.XPATH, \"//span[@class='_aacl _aaco _aacu _aacx _aad7 _aade']\")\n",
    "        caption = el[0].text\n",
    "        src = getLink()\n",
    "        if caption != \"\" and download(src, str(name)):\n",
    "            name = name+1\n",
    "            dict[link] = el[0].text\n",
    "        if name >= 500:\n",
    "            break\n",
    "    except:\n",
    "        continue"
   ]
  },
  {
   "cell_type": "code",
   "execution_count": null,
   "id": "5072f42e",
   "metadata": {},
   "outputs": [],
   "source": [
    "import json\n",
    "with open('igData\\\\food\\\\food.json', 'w', encoding='utf8') as f:\n",
    "    json.dump(dict, f, ensure_ascii=False, indent=4)"
   ]
  }
 ],
 "metadata": {
  "kernelspec": {
   "display_name": "Python 3",
   "language": "python",
   "name": "python3"
  },
  "language_info": {
   "codemirror_mode": {
    "name": "ipython",
    "version": 3
   },
   "file_extension": ".py",
   "mimetype": "text/x-python",
   "name": "python",
   "nbconvert_exporter": "python",
   "pygments_lexer": "ipython3",
   "version": "3.8.8"
  }
 },
 "nbformat": 4,
 "nbformat_minor": 5
}
